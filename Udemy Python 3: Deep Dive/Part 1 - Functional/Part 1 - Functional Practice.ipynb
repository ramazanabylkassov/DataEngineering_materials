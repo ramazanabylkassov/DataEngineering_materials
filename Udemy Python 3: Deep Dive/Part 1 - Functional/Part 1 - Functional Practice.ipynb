{
 "cells": [
  {
   "cell_type": "markdown",
   "id": "076586c8",
   "metadata": {},
   "source": [
    "# Decimals"
   ]
  },
  {
   "cell_type": "code",
   "execution_count": 1,
   "id": "544c88ad",
   "metadata": {},
   "outputs": [],
   "source": [
    "import decimal\n",
    "from decimal import Decimal"
   ]
  },
  {
   "cell_type": "code",
   "execution_count": 2,
   "id": "bec6e2d3",
   "metadata": {},
   "outputs": [],
   "source": [
    "decimal.getcontext().prec = 6"
   ]
  },
  {
   "cell_type": "code",
   "execution_count": 3,
   "id": "4f22eb6e",
   "metadata": {},
   "outputs": [
    {
     "data": {
      "text/plain": [
       "Context(prec=6, rounding=ROUND_HALF_EVEN, Emin=-999999, Emax=999999, capitals=1, clamp=0, flags=[], traps=[InvalidOperation, DivisionByZero, Overflow])"
      ]
     },
     "execution_count": 3,
     "metadata": {},
     "output_type": "execute_result"
    }
   ],
   "source": [
    "decimal.getcontext()"
   ]
  },
  {
   "cell_type": "code",
   "execution_count": 4,
   "id": "6871fd44",
   "metadata": {},
   "outputs": [
    {
     "data": {
      "text/plain": [
       "(Decimal('0.1123123'), Decimal('-312.342'))"
      ]
     },
     "execution_count": 4,
     "metadata": {},
     "output_type": "execute_result"
    }
   ],
   "source": [
    "a = Decimal('0.1123123')\n",
    "b = Decimal((1, (3, 1, 2, 3, 4, 2), -3))\n",
    "a, b"
   ]
  },
  {
   "cell_type": "code",
   "execution_count": 5,
   "id": "ad50fc1a",
   "metadata": {},
   "outputs": [
    {
     "data": {
      "text/plain": [
       "decimal.Decimal"
      ]
     },
     "execution_count": 5,
     "metadata": {},
     "output_type": "execute_result"
    }
   ],
   "source": [
    "type(a)"
   ]
  },
  {
   "cell_type": "code",
   "execution_count": 6,
   "id": "5d528997",
   "metadata": {},
   "outputs": [
    {
     "name": "stdout",
     "output_type": "stream",
     "text": [
      "Context(prec=2, rounding=ROUND_HALF_EVEN, Emin=-999999, Emax=999999, capitals=1, clamp=0, flags=[], traps=[InvalidOperation, DivisionByZero, Overflow])\n"
     ]
    },
    {
     "data": {
      "text/plain": [
       "Context(prec=6, rounding=ROUND_HALF_EVEN, Emin=-999999, Emax=999999, capitals=1, clamp=0, flags=[], traps=[InvalidOperation, DivisionByZero, Overflow])"
      ]
     },
     "execution_count": 6,
     "metadata": {},
     "output_type": "execute_result"
    }
   ],
   "source": [
    "with decimal.localcontext() as ctx:\n",
    "    ctx.prec = 2\n",
    "    print(ctx)\n",
    "    \n",
    "decimal.getcontext()"
   ]
  },
  {
   "cell_type": "code",
   "execution_count": 7,
   "id": "11d0b734",
   "metadata": {},
   "outputs": [
    {
     "data": {
      "text/plain": [
       "Decimal('-312.230')"
      ]
     },
     "execution_count": 7,
     "metadata": {},
     "output_type": "execute_result"
    }
   ],
   "source": [
    "a + b"
   ]
  },
  {
   "cell_type": "code",
   "execution_count": 8,
   "id": "cc1f64f6",
   "metadata": {},
   "outputs": [
    {
     "data": {
      "text/plain": [
       "Decimal('0.1000000000000000055511151231257827021181583404541015625')"
      ]
     },
     "execution_count": 8,
     "metadata": {},
     "output_type": "execute_result"
    }
   ],
   "source": [
    "Decimal(0.1)"
   ]
  },
  {
   "cell_type": "markdown",
   "id": "6eb1b413",
   "metadata": {},
   "source": [
    "## Decimal operations"
   ]
  },
  {
   "cell_type": "code",
   "execution_count": 10,
   "id": "cad32c98",
   "metadata": {},
   "outputs": [
    {
     "name": "stdout",
     "output_type": "stream",
     "text": [
      "3 1\n",
      "(3, 1)\n",
      "True\n"
     ]
    }
   ],
   "source": [
    "a = 10\n",
    "b = 3\n",
    "\n",
    "print(a // b, a%b)\n",
    "print(divmod(a, b))\n",
    "print(a == b * (a // b) + a % b)"
   ]
  },
  {
   "cell_type": "code",
   "execution_count": 14,
   "id": "8a6f594e",
   "metadata": {},
   "outputs": [
    {
     "name": "stdout",
     "output_type": "stream",
     "text": [
      "3 1\n",
      "(Decimal('3'), Decimal('1'))\n",
      "True\n"
     ]
    }
   ],
   "source": [
    "x = Decimal(10)\n",
    "y = Decimal(3)\n",
    "\n",
    "print(x // y, a%b)\n",
    "print(divmod(x, y))\n",
    "print(x == y * (x // y) + x % y)"
   ]
  },
  {
   "cell_type": "code",
   "execution_count": 18,
   "id": "62210f07",
   "metadata": {},
   "outputs": [
    {
     "name": "stdout",
     "output_type": "stream",
     "text": [
      "0.693147\n",
      "7.38906\n",
      "1.41421\n"
     ]
    }
   ],
   "source": [
    "x = Decimal(2)\n",
    "print(x.ln())\n",
    "print(x.exp())\n",
    "print(x.sqrt())"
   ]
  },
  {
   "cell_type": "code",
   "execution_count": 32,
   "id": "0f1601aa",
   "metadata": {},
   "outputs": [
    {
     "name": "stdout",
     "output_type": "stream",
     "text": [
      "sqrt_float 0.316227766016837941176476079\n",
      "sqrt_mixed 0.316227766016837941176476079\n",
      "sqrt_dec 0.316228000000000000000000000\n"
     ]
    }
   ],
   "source": [
    "import math\n",
    "\n",
    "x = 0.1\n",
    "x_dec = Decimal('0.1')\n",
    "\n",
    "sqrt_float = math.sqrt(x)\n",
    "sqrt_mixed = math.sqrt(x_dec)\n",
    "sqrt_dec = x_dec.sqrt()\n",
    "\n",
    "print('sqrt_float {0}'.format(format(sqrt_float, '1.27f')))\n",
    "print('sqrt_mixed {0}'.format(format(sqrt_mixed, '1.27f')))\n",
    "print('sqrt_dec {0}'.format(format(sqrt_dec, '1.27f')))\n"
   ]
  },
  {
   "cell_type": "code",
   "execution_count": 29,
   "id": "04c4d275",
   "metadata": {
    "scrolled": true
   },
   "outputs": [
    {
     "name": "stdout",
     "output_type": "stream",
     "text": [
      "Squared\n",
      "float 0.100000000000000005551115123\n",
      "mixed 0.100000000000000005551115123\n",
      "Decimal 0.100000000000000000000000000\n"
     ]
    }
   ],
   "source": [
    "print('Squared')\n",
    "print('float', format(sqrt_float * sqrt_float, '1.27f'))\n",
    "print('mixed', format(sqrt_mixed * sqrt_mixed, '1.27f'))\n",
    "print('Decimal', format(sqrt_dec * sqrt_dec, '1.27f'))"
   ]
  },
  {
   "cell_type": "markdown",
   "id": "49b75577",
   "metadata": {},
   "source": [
    "## Decimal performance"
   ]
  },
  {
   "cell_type": "code",
   "execution_count": 34,
   "id": "2d7c1054",
   "metadata": {},
   "outputs": [
    {
     "name": "stdout",
     "output_type": "stream",
     "text": [
      "Float 24\n",
      "Decimal 104\n"
     ]
    }
   ],
   "source": [
    "import sys\n",
    "\n",
    "a = 3.12345\n",
    "b = Decimal('3.12345')\n",
    "\n",
    "print('Float', sys.getsizeof(a))\n",
    "print('Decimal', sys.getsizeof(b))"
   ]
  },
  {
   "cell_type": "code",
   "execution_count": 41,
   "id": "bbd3b9a5",
   "metadata": {},
   "outputs": [
    {
     "name": "stdout",
     "output_type": "stream",
     "text": [
      "float 0.007630583015270531\n",
      "Decimal 0.038014582998584956\n"
     ]
    }
   ],
   "source": [
    "import time\n",
    "\n",
    "n = 50000\n",
    "\n",
    "def run_float(n=1):\n",
    "    a = 3.12345\n",
    "    for i in range(n):\n",
    "        math.sqrt(a)\n",
    "        \n",
    "def run_decimal(n=1):\n",
    "    a = Decimal('3.12345')\n",
    "    for i in range(n):\n",
    "        a.sqrt()\n",
    "        \n",
    "start = time.perf_counter()\n",
    "run_float(n)\n",
    "end = time.perf_counter()\n",
    "print('float', end-start)\n",
    "\n",
    "start = time.perf_counter()\n",
    "run_decimal(n)\n",
    "end = time.perf_counter()\n",
    "print('Decimal', end-start)\n",
    "        "
   ]
  },
  {
   "cell_type": "markdown",
   "id": "1b8979b2",
   "metadata": {},
   "source": [
    "## Boolean"
   ]
  },
  {
   "cell_type": "code",
   "execution_count": 48,
   "id": "b81c4def",
   "metadata": {},
   "outputs": [
    {
     "data": {
      "text/plain": [
       "False"
      ]
     },
     "execution_count": 48,
     "metadata": {},
     "output_type": "execute_result"
    }
   ],
   "source": [
    "from fractions import Fraction\n",
    "\n",
    "bool(Fraction(0, 1231231283))"
   ]
  },
  {
   "cell_type": "markdown",
   "id": "c2a207dc",
   "metadata": {},
   "source": [
    " ## Unpacking"
   ]
  },
  {
   "cell_type": "code",
   "execution_count": 1,
   "id": "144c10ed",
   "metadata": {},
   "outputs": [],
   "source": [
    "a, *b = [1, 2, 'python']"
   ]
  },
  {
   "cell_type": "code",
   "execution_count": 2,
   "id": "a42f7df7",
   "metadata": {},
   "outputs": [
    {
     "data": {
      "text/plain": [
       "1"
      ]
     },
     "execution_count": 2,
     "metadata": {},
     "output_type": "execute_result"
    }
   ],
   "source": [
    "a"
   ]
  },
  {
   "cell_type": "code",
   "execution_count": 3,
   "id": "52e068c3",
   "metadata": {},
   "outputs": [
    {
     "data": {
      "text/plain": [
       "[2, 'python']"
      ]
     },
     "execution_count": 3,
     "metadata": {},
     "output_type": "execute_result"
    }
   ],
   "source": [
    "b"
   ]
  },
  {
   "cell_type": "code",
   "execution_count": 11,
   "id": "9ece1d86",
   "metadata": {},
   "outputs": [],
   "source": [
    "a, *b, (c, *d, e) = {1, 2, 3, 'python'}"
   ]
  },
  {
   "cell_type": "code",
   "execution_count": 12,
   "id": "5ce2ab48",
   "metadata": {},
   "outputs": [
    {
     "data": {
      "text/plain": [
       "'p'"
      ]
     },
     "execution_count": 12,
     "metadata": {},
     "output_type": "execute_result"
    }
   ],
   "source": [
    "c"
   ]
  },
  {
   "cell_type": "code",
   "execution_count": 13,
   "id": "715e8bed",
   "metadata": {},
   "outputs": [
    {
     "data": {
      "text/plain": [
       "['y', 't', 'h', 'o']"
      ]
     },
     "execution_count": 13,
     "metadata": {},
     "output_type": "execute_result"
    }
   ],
   "source": [
    "d"
   ]
  },
  {
   "cell_type": "code",
   "execution_count": 14,
   "id": "8cba548e",
   "metadata": {},
   "outputs": [
    {
     "data": {
      "text/plain": [
       "'n'"
      ]
     },
     "execution_count": 14,
     "metadata": {},
     "output_type": "execute_result"
    }
   ],
   "source": [
    "e"
   ]
  },
  {
   "cell_type": "code",
   "execution_count": 18,
   "id": "f361d9a7",
   "metadata": {},
   "outputs": [],
   "source": [
    "a = [1, 2, [3, 4]]"
   ]
  },
  {
   "cell_type": "code",
   "execution_count": 24,
   "id": "ede8bbbb",
   "metadata": {},
   "outputs": [],
   "source": [
    "b, *e = a"
   ]
  },
  {
   "cell_type": "code",
   "execution_count": 22,
   "id": "a05fa65c",
   "metadata": {},
   "outputs": [
    {
     "data": {
      "text/plain": [
       "[2, [3, 4]]"
      ]
     },
     "execution_count": 22,
     "metadata": {},
     "output_type": "execute_result"
    }
   ],
   "source": [
    "e"
   ]
  },
  {
   "cell_type": "markdown",
   "id": "dec34444",
   "metadata": {},
   "source": [
    "## Keyword arguments"
   ]
  },
  {
   "cell_type": "code",
   "execution_count": 42,
   "id": "73717e6c",
   "metadata": {},
   "outputs": [],
   "source": [
    "def func(a, *args, b=100, d=2, e=True):\n",
    "    return b"
   ]
  },
  {
   "cell_type": "code",
   "execution_count": 43,
   "id": "20309cfe",
   "metadata": {},
   "outputs": [
    {
     "data": {
      "text/plain": [
       "100"
      ]
     },
     "execution_count": 43,
     "metadata": {},
     "output_type": "execute_result"
    }
   ],
   "source": [
    "func(1, 2, 3)"
   ]
  },
  {
   "cell_type": "markdown",
   "id": "ccbc29fc",
   "metadata": {},
   "source": [
    "## Randomize iterable using sort method"
   ]
  },
  {
   "cell_type": "code",
   "execution_count": 7,
   "id": "42e5d2f8",
   "metadata": {},
   "outputs": [
    {
     "data": {
      "text/plain": [
       "[3, 7, 4, 6, 2, 8, 9, 5, 1]"
      ]
     },
     "execution_count": 7,
     "metadata": {},
     "output_type": "execute_result"
    }
   ],
   "source": [
    "import random\n",
    "\n",
    "l = [1, 2, 3, 4, 5, 6, 7, 8, 9]\n",
    "\n",
    "sorted(l, key = lambda x: random.random())"
   ]
  },
  {
   "cell_type": "markdown",
   "id": "9549241f",
   "metadata": {},
   "source": [
    "## Inpect module"
   ]
  },
  {
   "cell_type": "code",
   "execution_count": 42,
   "id": "ca7b4c97",
   "metadata": {},
   "outputs": [
    {
     "name": "stdout",
     "output_type": "stream",
     "text": [
      "Name: a\n",
      "Default value: <class 'inspect._empty'>\n",
      "Annotation: first positional arg\n",
      "Kind: POSITIONAL_OR_KEYWORD\n",
      "----------------------------\n",
      "Name: b\n",
      "Default value: 2\n",
      "Annotation: second positional arg\n",
      "Kind: POSITIONAL_OR_KEYWORD\n",
      "----------------------------\n",
      "Name: args\n",
      "Default value: <class 'inspect._empty'>\n",
      "Annotation: <class 'inspect._empty'>\n",
      "Kind: VAR_POSITIONAL\n",
      "----------------------------\n",
      "Name: kw1\n",
      "Default value: <class 'inspect._empty'>\n",
      "Annotation: firs kw-only arg\n",
      "Kind: KEYWORD_ONLY\n",
      "----------------------------\n",
      "Name: kw2\n",
      "Default value: 100\n",
      "Annotation: second kw-only arg\n",
      "Kind: KEYWORD_ONLY\n",
      "----------------------------\n",
      "Name: kwargs\n",
      "Default value: <class 'inspect._empty'>\n",
      "Annotation: <class 'inspect._empty'>\n",
      "Kind: VAR_KEYWORD\n",
      "----------------------------\n"
     ]
    }
   ],
   "source": [
    "import inspect\n",
    "\n",
    "def my_func(a: 'first positional arg',\n",
    "           b: 'second positional arg' = 2,\n",
    "           *args,\n",
    "           kw1: 'firs kw-only arg',\n",
    "           kw2: 'second kw-only arg' = 100,\n",
    "           **kwargs) -> 'returns None':\n",
    "    '''\n",
    "    This is a docstring to the function my_func\n",
    "    '''\n",
    "    i = 'python'\n",
    "    j = 'great!'\n",
    "    return None\n",
    "\n",
    "sig_my_func = inspect.signature(my_func)\n",
    "\n",
    "# print(sig_my_func.parameters)\n",
    "\n",
    "for param in sig_my_func.parameters.values():\n",
    "    print('Name:', param.name)\n",
    "    print('Default value:', param.default)\n",
    "    print('Annotation:', param.annotation)\n",
    "    print('Kind:', param.kind)\n",
    "    print('----------------------------')\n",
    "\n"
   ]
  },
  {
   "cell_type": "code",
   "execution_count": 76,
   "id": "598e4db3",
   "metadata": {},
   "outputs": [
    {
     "name": "stdout",
     "output_type": "stream",
     "text": [
      "* [Docstrings and annotations](#Docstrings-and-annotations)\n",
      "* [Lambda expressions](#Lambda-expressions)\n",
      "* [Lambdas and sorting](#Lambdas-and-sorting)\n",
      "* [Function introspection](#Function-introspection)\n",
      "* [Callables](#Callables)\n",
      "* [Map, filter, zip and list comprehensions](#Map,-filter,-zip-and-list-comprehensions)\n",
      "* [Reducing functions](#Reducing-functions)\n",
      "* [Partial functions](#Partial-functions)\n",
      "* [The operator module](#The-operator-module)\n"
     ]
    }
   ],
   "source": [
    "headers = [\n",
    "    'Docstrings and annotations',\n",
    "    'Lambda expressions',\n",
    "    'Lambdas and sorting',\n",
    "    'Function introspection',\n",
    "    'Callables',\n",
    "    'Map, filter, zip and list comprehensions',\n",
    "    'Reducing functions',\n",
    "    'Partial functions',\n",
    "    'The operator module',\n",
    "]\n",
    "\n",
    "for header in headers:\n",
    "    print(f\"* [{header}](#{header.replace(' ', '-')})\")"
   ]
  },
  {
   "cell_type": "code",
   "execution_count": 3,
   "id": "bd86d39b",
   "metadata": {},
   "outputs": [
    {
     "data": {
      "text/plain": [
       "4388073792"
      ]
     },
     "execution_count": 3,
     "metadata": {},
     "output_type": "execute_result"
    }
   ],
   "source": [
    "s = {1, 2, 3}\n",
    "type(s)\n",
    "id(s)"
   ]
  },
  {
   "cell_type": "code",
   "execution_count": 4,
   "id": "e52dfe24",
   "metadata": {},
   "outputs": [
    {
     "data": {
      "text/plain": [
       "{1, 2, 3, 4}"
      ]
     },
     "execution_count": 4,
     "metadata": {},
     "output_type": "execute_result"
    }
   ],
   "source": [
    "s.add(4)\n",
    "s"
   ]
  },
  {
   "cell_type": "code",
   "execution_count": 5,
   "id": "b4171174",
   "metadata": {},
   "outputs": [
    {
     "data": {
      "text/plain": [
       "4388073792"
      ]
     },
     "execution_count": 5,
     "metadata": {},
     "output_type": "execute_result"
    }
   ],
   "source": [
    "id(s)"
   ]
  },
  {
   "cell_type": "code",
   "execution_count": 20,
   "id": "028e5e49",
   "metadata": {},
   "outputs": [
    {
     "data": {
      "text/plain": [
       "[1, 2, 3, 4, 6]"
      ]
     },
     "execution_count": 20,
     "metadata": {},
     "output_type": "execute_result"
    }
   ],
   "source": [
    "l = [1, 2, 3, 4, 3, 6, 1, 2]\n",
    "\n",
    "list(set(l))"
   ]
  },
  {
   "cell_type": "code",
   "execution_count": null,
   "id": "bc7c4f37",
   "metadata": {},
   "outputs": [
    {
     "name": "stdout",
     "output_type": "stream",
     "text": [
      "Enter your number: 15\n",
      "1\n",
      "2\n",
      "3: Foo\n",
      "4\n",
      "5: Bar\n",
      "6: Foo\n",
      "7\n",
      "8\n",
      "9: Foo\n",
      "10: Bar\n",
      "11\n",
      "12: Foo\n",
      "13\n",
      "14\n",
      "15: FooBar\n"
     ]
    }
   ],
   "source": [
    "def foobar(n):\n",
    "    for i in range(1, n+1):\n",
    "        if i % 3 == 0 and i % 5 == 0:\n",
    "            print(f'{i}: FooBar')\n",
    "        elif i % 3 == 0:\n",
    "            print(f'{i}: Foo')\n",
    "        elif i % 5 == 0:\n",
    "            print(f'{i}: Bar')\n",
    "        else:\n",
    "            print(i)\n",
    "    \n",
    "while True:\n",
    "    try:\n",
    "        input_int = int(input('Enter your number: '))\n",
    "        if input_int == 0:\n",
    "            raise ValueError\n",
    "        foobar(input_int)\n",
    "    except ValueError:\n",
    "        print('Give integer bigger than 0')\n",
    "        continue        \n",
    "\n",
    "\n",
    "\n"
   ]
  },
  {
   "cell_type": "code",
   "execution_count": null,
   "id": "fa5f9d8e",
   "metadata": {},
   "outputs": [],
   "source": [
    "3. [Variables and memory](#Variables-and-memory)\n",
    "    * [Variables are memory references](#Variables-are-memory-references)\n",
    "    * [Reference counting](#Reference-counting)\n",
    "    * [Garbage collection](#Garbage-collection)\n",
    "    * [Dynamic vs Static typing](#Dynamic-vs-Static-typing)\n",
    "    * [Variable re-assignment](#Variable-re-assignment)\n",
    "    * [Object mutability](#Object-mutability)\n",
    "    * [Function arguments and mutability](#Function-arguments-and-mutability)\n",
    "    * [Shared references and mutability](#Shared-references-and-mutability)\n",
    "    * [Variable equality](#Variable-equality)\n",
    "    * [Everything is an object](#Everything-is-an-object)\n",
    "    * Python Optimizations\n",
    "        * [Interning](#Python-Optimizations:-Interning)\n",
    "        * [String interning](#Python-Optimizations:-String-interning)\n",
    "        * [Peephole](#Python-Optimizations:-Peephole)\n",
    "        \n",
    "4. [Numeric types](#Numeric-Types)    \n",
    "    * Integers\n",
    "        * [Data Types](#Integers:-Data-Types)\n",
    "        * [Operations](#Integers:-Operations)\n",
    "        * [Constructors and Bases](#Integers:-Constructors-and-Bases)\n",
    "    * [Rational numbers](#Rational-numbers)\n",
    "    * Floats\n",
    "        * [Internal representations](#Floats:-Internal-representations)\n",
    "        * [Equality testing](#Floats:-Equality-testing)\n",
    "        * [Coercing to integers](#Floats:-Coercing-to-integers)\n",
    "        * [Rounding](#Floats:-Rounding)\n",
    "    * [Decimals](#Decimals)\n",
    "        * [Constructors and contexts](#Decimals:-Constructors-and-contexts)\n",
    "        * [Math operations](#Decimals:-Math-operations)\n",
    "        * [Performance considerations](#Decimals:-Performance-considerations)\n",
    "    * [Complex numbers](#Complex-numbers)\n",
    "    * [Booleans](#Booleans)\n",
    "        * [Truth values](#Booleans:-Truth-values)\n",
    "        * [Precedence and Short Circuiting](#Booleans:-Precedence-and-Short-Circuiting)\n",
    "        * [Boolean operators](#Booleans:-Boolean-operators)\n",
    "    * [Comparison operators](#Comparison-operators)\n",
    "5. [Function parameters](#Function-parameters)\n",
    "    * [Argument vs Parameter](#Argument-vs-Parameter)\n",
    "    * [Positional and Keyword arguments](#Positional-and-Keyword-arguments)\n",
    "    * [Unpacking iterables](#Unpacking-iterables)\n",
    "    * [Extended unpacking](#Extended-unpacking)\n",
    "    * [\\*args](#\\*args)\n",
    "    * [Keyword arguments](#Keyword-arguments)\n",
    "    * [\\*\\*kwargs](#\\*\\*kwargs)\n",
    "    * [Putting it all together](#Putting-it-all-together)\n",
    "    * [Parameter defaults](#Parameter-defaults)\n",
    "6. [First-Class Functions](#First-Class-Functions)\n",
    "    * [Docstrings and annotations](#Docstrings-and-annotations)\n",
    "    * [Lambda expressions](#Lambda-expressions)\n",
    "    * [Lambdas and sorting](#Lambdas-and-sorting)\n",
    "    * [Function introspection](#Function-introspection)\n",
    "    * [Callables](#Callables)\n",
    "    * [Map, filter, zip and list comprehensions](#Map,-filter,-zip-and-list-comprehensions)\n",
    "    * [Reducing functions](#Reducing-functions)\n",
    "    * [Partial functions](#Partial-functions)\n",
    "    * [The operator module](#The-operator-module)"
   ]
  }
 ],
 "metadata": {
  "kernelspec": {
   "display_name": "Python 3 (ipykernel)",
   "language": "python",
   "name": "python3"
  },
  "language_info": {
   "codemirror_mode": {
    "name": "ipython",
    "version": 3
   },
   "file_extension": ".py",
   "mimetype": "text/x-python",
   "name": "python",
   "nbconvert_exporter": "python",
   "pygments_lexer": "ipython3",
   "version": "3.10.9"
  }
 },
 "nbformat": 4,
 "nbformat_minor": 5
}
